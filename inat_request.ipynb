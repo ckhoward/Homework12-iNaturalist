{
 "cells": [
  {
   "cell_type": "markdown",
   "metadata": {},
   "source": [
    "# iNaturalist SDM Command and Control\n",
    "### Daniel Phillips, Chris Howard, Phillip Johnson, Jacob Smith, Michael Reid"
   ]
  },
  {
   "cell_type": "markdown",
   "metadata": {},
   "source": [
    "### Basic Overview\n",
    "\n",
    "This application provides a full data pipeline for getting and cleaning iNaturalist butterfly data, and running this data through Jeff Oliver's species distribution model, which creates rasters and image files that help scientists visualize how different butterfly species are distributed across the country, given the month of the year."
   ]
  },
  {
   "cell_type": "markdown",
   "metadata": {},
   "source": [
    "## System Requirements:\n",
    "    Python 3.6, R, Git\n",
    "\n",
    "\n",
    "## Getting started:\n",
    "\n",
    "1. Clone the required projects\n",
    " * Get Jeff Oliver's SDM with ```clone https://github.com/jcoliver/ebutterfly-sdm.git```\n",
    " * Get this program with ```clone https://github.com/ckhoward/ebutterfly-sdm.git```\n",
    "\n",
    "2. Get your data\n",
    " * If downloading [GBIF Observations](http://www.inaturalist.org/observations/gbif-observations-dwca.zip), unzip the downloaded file, and move observations.csv into the directory ebutterfly-sdm/data/ (warning: many input files will be generated here)\n",
    " * If using updater.py and observation_getter.py\n",
    "\n",
    "3. Organize your files\n",
    " * Place inat_request.ipynb into the directory ebutterfly-sdm/scripts/ (this notebook will act as command and control)\n",
    " * Place organize.py into the directory ebutterfly-sdm/scripts/data/\n",
    " * Move taxon_list.txt from ebutterfly-sdm/data/gbif/ to ebutterfly-sdm/scripts/data/inaturalist/"
   ]
  },
  {
   "cell_type": "markdown",
   "metadata": {},
   "source": [
    "## How to use:\n",
    "Run organize.py with ```python organize.py``` from the command line. This script:\n",
    " * Cleans the observations.csv data by removing extraneous and/or missing data (IDs not listed in Jeff's taxon_list file, for instance);\n",
    " * Creates a user-friendly file, data_for_sdm.csv, containing all observations, with data for taxonId, year, month, latitude, and longitude. A text copy is created too, just in case it is preferred. This makes it easier for users to sift through the data of interest, to find any glaring issues;\n",
    " * Creates 13 text files for every species listed in data_for_sdm.csv, one for each month, and one for all months, to be used as input for the SDM, as the format [taxonid-month-iNaturalist].\n",
    " \n",
    "This process prepares you to run the SDM model by generating the text files shown below."
   ]
  },
  {
   "cell_type": "markdown",
   "metadata": {},
   "source": [
    "## Running the R Scripts through Bash\n",
    "\n",
    "### Input:\n",
    "\n",
    "\n",
    "\n",
    "![Input](https://github.com/ckhoward/iNat-SDM/blob/master/imgs/input.jpg?raw=true \"SDM Input\")\n",
    "\n",
    "This code iterates on every species contained in the ```ids``` array, and for every month (and all observations), the run-sdm.R script takes in each species, by each month, and creates associated images and raster files.\n",
    "\n",
    "Notice that the IDs are hardcoded. We know this is not ideal and are working on a fix. In the meantime, we have created a massive list of space separated IDs that can be plugged in as necessary. The list can be found [here](https://pastebin.com/sYdqyXqL). Additionally, organize.py contains a commented out function that takes taxon_list.txt and provides an output that can be copied and pasted into the bash ID array contained in the notebook. Thus, you're given the flexibility to choose what specific IDs you want to observe."
   ]
  },
  {
   "cell_type": "code",
   "execution_count": null,
   "metadata": {
    "collapsed": true
   },
   "outputs": [],
   "source": [
    "%%bash\n",
    "start=$(date +%s.%N)\n",
    "\n",
    "ids=(\"47226\")\n",
    "months=(\"01\" \"02\" \"03\" \"04\" \"05\" \"06\" \"07\" \"08\" \"09\" \"10\" \"11\" \"12\" \"all\")\n",
    "for id in \"${ids[@]}\"; do\n",
    "    for month in \"${months[@]}\"; do\n",
    "        Rscript --vanilla run-sdm.R data/inaturalist/$id-$month-iNaturalist.txt $id-$month output/\n",
    "    done\n",
    "done\n",
    "end=$(date +%s.%N)    \n",
    "runtime=$(python -c \"print(${end} - ${start})\")\n",
    "\n",
    "echo \"Runtime was $runtime\""
   ]
  },
  {
   "cell_type": "markdown",
   "metadata": {
    "collapsed": true
   },
   "source": [
    "### Output distribution images:\n",
    "\n",
    "![Species Distributions](https://github.com/ckhoward/iNat-SDM/blob/master/imgs/species.png?raw=true \"October, November, December, All\")"
   ]
  },
  {
   "cell_type": "markdown",
   "metadata": {},
   "source": [
    "## Warnings\n",
    "\n",
    "#### Data integrity:\n",
    "\n",
    "From iNaturlist:\n",
    "> \"Our export system is a bit flawed, though: if you alter the filters to get more than 10,000 records\n",
    "it may start omitting data, so the above techniques would probably be better. Plus, if you use GBIF,\n",
    "your [users] can benefit from even more records from museums and such.\"\n",
    "\n",
    "Anyone using iNaturalist data should perhaps use our API access code, Jeff's, or download the DwC-A that iNaturalist makes for GBIF.\n",
    "\n",
    "Some of the research-grade observations did not have latitude and longitude entries. Our script takes care of this by omitting these data.\n",
    "\n",
    "#### Runtimes:\n",
    "\n",
    "Approximate run time for organization.py to clean and organize/write needed files for the SDM : ~5minutes\n",
    "\n",
    "Approximate run time for SDM/R Script to fully run 5 Taxon ID's and recieve Raster Images: ~3minutes\n",
    "\n",
    "Estimated run time for SDM/R Script to fully run all 760-780 Taxon ID's and recieve Raster Images: ~6.5hours\n",
    "\n",
    "\n",
    "#### Space requirement:\n",
    "\n",
    "When running the SDM on 760 species, the output produced is approximately 16 GBs in total. Consider your hard drive space before utilizing the SDM on large numbers of species.\n",
    "\n",
    "#### Map Errors:\n",
    "\n",
    "After running the SDM, you will likely notice maps produced with yellow bands, or kernel output noting issues with the mins, maxes, and correlations. This is due to the input having either no data, or too few observations. If the input has more than 12 observations, the generated outputs will be correct."
   ]
  },
  {
   "cell_type": "markdown",
   "metadata": {},
   "source": [
    "### Other functionality:"
   ]
  },
  {
   "cell_type": "markdown",
   "metadata": {},
   "source": [
    "These codeblocks give you the flexibility to call the iNaturalist API and fetch data that way."
   ]
  },
  {
   "cell_type": "code",
   "execution_count": 4,
   "metadata": {},
   "outputs": [
    {
     "name": "stdout",
     "output_type": "stream",
     "text": [
      "Wall time: 4min 49s\n"
     ]
    }
   ],
   "source": [
    "import requests\n",
    "import json\n",
    "import pandas as pd\n",
    "from pandas.io.json import json_normalize\n",
    "from IPython.display import display\n",
    "\n",
    "def get_taxa_id(species_name):\n",
    "    '''\n",
    "    This function returns the taxon_id when given the species name.\n",
    "    \n",
    "    Parameters:\n",
    "    species_name: a string object representing a species name, e.g. \"Danaus plexippus\"\n",
    "    \n",
    "    Returns: ids, a list object containing integer id's for the species\n",
    "    '''\n",
    "    \n",
    "    base_url = \"http://api.inaturalist.org/v1/taxa/autocomplete?q=\"\n",
    "\n",
    "    \n",
    "    request = requests.get(base_url + \"%20\".join(species_name.split()))\n",
    "    data = request.json()\n",
    "\n",
    "    ids = []\n",
    "    for i in data['results']:\n",
    "        ids.append(i['id'])\n",
    "\n",
    "    return ids\n",
    "\n",
    "\n",
    "def get_observation(id_no, month, year):\n",
    "    '''\n",
    "    This function returns observation data when given taxon_id, month, and year.\n",
    "    \n",
    "    Parameters: \n",
    "    id_no: an integer representing species taxon_id\n",
    "    month: an integer (1-12) representing the month of interest\n",
    "    year: an integer representing year of interest\n",
    "    \n",
    "    Returns: observational data for taxon_id for specified month and year.\n",
    "    '''\n",
    "    #Url builder, for the request\n",
    "    base_url = \"http://api.inaturalist.org/v1/observations?\"\n",
    "    end_url = \"&order=desc&order_by=created_at\"\n",
    "    url = base_url + 'taxon_id=' + str(id_no) + '&month=' + str(month) + '&year=' + str(year) + end_url\n",
    "\n",
    "    request = requests.get(url)\n",
    "    data = request.json()    \n",
    "\n",
    "    return data\n",
    "    \n",
    "        \n",
    "def get_count_one_month(id_no_lst, month, year):\n",
    "    '''\n",
    "    This function counts the number of observations of a taxon_id, for each month of a given year.\n",
    "    \n",
    "    Parameters:\n",
    "    id_no_lst: a Python list object containing IDs \n",
    "    month: an integer object (1-12) representing the month you want the count for\n",
    "    year: an integer object for the year of interest\n",
    "    \n",
    "    Returns: count, an integer of how many observations are given for some id, for some month of a given year.\n",
    "    '''\n",
    "    count = 0\n",
    "    for i in id_no_lst:\n",
    "        count += int(get_observation(i, month, year)['total_results']) #total_results key associates w/ ea. set of obs data\n",
    "    return count\n",
    "    \n",
    "    \n",
    "\n",
    "species = [\n",
    "    'Danaus plexippus',\n",
    "    'Hyles lineata',\n",
    "    'Zerene cesonia',\n",
    "    'Papilio multicaudata',\n",
    "    'Agraulis vanillae',\n",
    "    'Papilio cresphontes',\n",
    "    'Strymon melinus',\n",
    "    'Vanessa cardui',\n",
    "    'Hylephila phyleus',\n",
    "    'Danaus gilippus'\n",
    "]\n",
    "\n",
    "months = [\n",
    "    'January',\n",
    "    'February',\n",
    "    'March',\n",
    "    'April',\n",
    "    'May',\n",
    "    'June',\n",
    "    'July',\n",
    "    'August',\n",
    "    'September',\n",
    "    'October',\n",
    "    'November',\n",
    "    'December'\n",
    "]\n",
    "\n",
    "def main():\n",
    "    #print('running')\n",
    "    species_to_id = {}\n",
    "    frames = []\n",
    "    \n",
    "    \n",
    "    #Get a dictionary of the taxa -> lst(ids)\n",
    "    for i in species:\n",
    "        species_to_id[i] = get_taxa_id(i)\n",
    "    \n",
    "    #Map integers 1-12 to 'January' through 'December'\n",
    "    month_map = dict(zip(range(1,13), months))\n",
    "    \n",
    "    species_dict_out = {}\n",
    "    year = 2016\n",
    "    \n",
    "    #print(species_to_id)\n",
    "    \n",
    "    #Create a dictionary for each species\n",
    "    for spec in species_to_id:\n",
    "        species_dict_out[spec] = {}\n",
    "        \n",
    "        #Map each species' months to their corresponding count of species observations for that month (and year)\n",
    "        for mon in month_map:\n",
    "            species_dict_out[spec][month_map[mon]] = get_count_one_month(species_to_id[spec], mon, year)\n",
    "        \n",
    "        #print(species_dict_out[spec])\n",
    "        \n",
    "        #Creates list of observed IDs for each species, e.g. {'Danaus plexippus': [48662, 235550]}\n",
    "        frames.append(species_dict_out[spec])\n",
    "            \n",
    "        \n",
    "    #Makes the JSON Species->ID_List structures \n",
    "    #result = json_normalize(frames)\n",
    "    #display(result)\n",
    "    \n",
    "    \n",
    "%time main()\n",
    "    "
   ]
  },
  {
   "cell_type": "code",
   "execution_count": 3,
   "metadata": {
    "collapsed": true
   },
   "outputs": [],
   "source": [
    "taxon_dict={}\n",
    "def get_organized(file):\n",
    "\tfile=open(file, 'r')\n",
    "\tfor line in file:\n",
    "\t\tline=line.split()\n",
    "\t\ttaxon_dict[line[0]]=' '.join(line[1:])\n",
    "\t\t#print(taxon_dict[line[0]])\n",
    "\treturn taxon_dict\n",
    "\t\t\n",
    "hello = get_organized('taxon_list.txt')\n",
    "#print(taxon_dict)"
   ]
  },
  {
   "cell_type": "code",
   "execution_count": null,
   "metadata": {
    "collapsed": true
   },
   "outputs": [],
   "source": []
  }
 ],
 "metadata": {
  "anaconda-cloud": {},
  "kernelspec": {
   "display_name": "Python [Root]",
   "language": "python",
   "name": "Python [Root]"
  },
  "language_info": {
   "codemirror_mode": {
    "name": "ipython",
    "version": 3
   },
   "file_extension": ".py",
   "mimetype": "text/x-python",
   "name": "python",
   "nbconvert_exporter": "python",
   "pygments_lexer": "ipython3",
   "version": "3.5.4"
  }
 },
 "nbformat": 4,
 "nbformat_minor": 2
}
